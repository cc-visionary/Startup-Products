{
 "cells": [
  {
   "cell_type": "code",
   "execution_count": 1,
   "metadata": {},
   "outputs": [],
   "source": [
    "# importing all the required libraries\n",
    "\n",
    "from selenium import webdriver\n",
    "from selenium.webdriver.common.by import By\n",
    "from selenium.webdriver.chrome.options import Options\n",
    "from selenium.webdriver.support.ui import WebDriverWait\n",
    "# from selenium.webdriver.support import expected_conditions as EC\n",
    "# from selenium.webdriver.support.ui import Select\n",
    "\n",
    "import xlsxwriter\n",
    "import time"
   ]
  },
  {
   "cell_type": "code",
   "execution_count": 2,
   "metadata": {},
   "outputs": [],
   "source": [
    "# adding options\n",
    "\n",
    "chromeOptions = Options()\n",
    "chromeOptions.add_argument('--kiosk')\n",
    "chromeOptions.add_argument('blink-settings=imagesEnabled=false')\n",
    "chromeOptions.page_load_strategy = 'normal'"
   ]
  },
  {
   "cell_type": "code",
   "execution_count": 3,
   "metadata": {},
   "outputs": [],
   "source": [
    "# opening the webpage\n",
    "\n",
    "driver = webdriver.Chrome('../chromedriver/chromedriver', options=chromeOptions)"
   ]
  },
  {
   "cell_type": "code",
   "execution_count": 4,
   "metadata": {},
   "outputs": [],
   "source": [
    "driver.get('https://www.producthunt.com')"
   ]
  },
  {
   "cell_type": "code",
   "execution_count": 23,
   "metadata": {},
   "outputs": [],
   "source": [
    "driver.close()"
   ]
  },
  {
   "cell_type": "markdown",
   "metadata": {},
   "source": [
    "# Extract Product Hunt listings\n",
    "### Steps:\n",
    "1. Scroll down the page\n",
    "2. Click all the show more button (to be able to scrape all data)\n",
    "3. Scrape the dates (for reference: to see which timeframe was scraped)\n",
    "4. Get all the cards\n",
    "5. Loop the cards then scrape all the necessary data(then add it into a list):\n",
    "    - Product Name\n",
    "    - Description\n",
    "    - Tags\n",
    "    - Votes\n",
    "    - href (to get the URL since it doesn't exist in the home page)  \n",
    "6. Loop the list and go to each href then scrape the website to get the URL.\n",
    "7. Save the lists with complete information to an excel file."
   ]
  },
  {
   "cell_type": "markdown",
   "metadata": {},
   "source": [
    "# Step 1: Scroll down"
   ]
  },
  {
   "cell_type": "code",
   "execution_count": null,
   "metadata": {
    "scrolled": true
   },
   "outputs": [
    {
     "name": "stdout",
     "output_type": "stream",
     "text": [
      "0 3528\n",
      "1 3921\n",
      "2 3921\n",
      "3 6137\n",
      "4 7465\n",
      "5 8793\n",
      "6 10121\n"
     ]
    }
   ],
   "source": [
    "for i in range(300): # scrolling down the page\n",
    "    print(i, driver.execute_script(\"return document.body.scrollHeight\"))\n",
    "    driver.execute_script(\"window.scrollTo(0, document.body.scrollHeight);\")\n",
    "    time.sleep(1) # give the browser some time to load"
   ]
  },
  {
   "cell_type": "code",
   "execution_count": 30,
   "metadata": {
    "scrolled": true
   },
   "outputs": [
    {
     "name": "stdout",
     "output_type": "stream",
     "text": [
      "https://www.producthunt.com/\n"
     ]
    }
   ],
   "source": [
    "print(driver.current_url)"
   ]
  },
  {
   "cell_type": "markdown",
   "metadata": {},
   "source": [
    "# Step 2: Click all show more buttons"
   ]
  },
  {
   "cell_type": "code",
   "execution_count": null,
   "metadata": {
    "scrolled": true
   },
   "outputs": [],
   "source": [
    "# click all show more buttons\n",
    "show_more = driver.find_elements_by_class_name('showHiddenPosts_fbc1f')\n",
    "print(len(show_more))\n",
    "for show in show_more:\n",
    "    show.click()"
   ]
  },
  {
   "cell_type": "markdown",
   "metadata": {},
   "source": [
    "# Step 3: Take all dates and print it"
   ]
  },
  {
   "cell_type": "code",
   "execution_count": null,
   "metadata": {},
   "outputs": [],
   "source": [
    "# get all dates (for reference as to when to when we got the dates.)\n",
    "get_all_date = driver.find_element_by_tag_name('main').find_elements_by_class_name('header_fb2c3')\n",
    "print(len(get_all_date))\n",
    "for date in get_all_date: \n",
    "    print(date.text)"
   ]
  },
  {
   "cell_type": "markdown",
   "metadata": {},
   "source": [
    "# Step 4: Find all cards"
   ]
  },
  {
   "cell_type": "code",
   "execution_count": null,
   "metadata": {},
   "outputs": [],
   "source": [
    "cards = driver.find_elements_by_class_name('item_54fdd') # getting all cards from classname\n",
    "print(len(cards))\n",
    "products = []"
   ]
  },
  {
   "cell_type": "markdown",
   "metadata": {},
   "source": [
    "# Step 5: Loop cards and extract data"
   ]
  },
  {
   "cell_type": "code",
   "execution_count": null,
   "metadata": {
    "scrolled": true
   },
   "outputs": [],
   "source": [
    "for i, card in enumerate(cards):\n",
    "    try:\n",
    "        title = card.find_element_by_tag_name('h3').text # getting title from h3 in each li\n",
    "        description = card.find_element_by_tag_name('p').text # getting description from p in each li\n",
    "        vote = card.find_element_by_class_name('voteButtonWrap_4c515').find_element_by_tag_name('span').text # getting vote from classname then span\n",
    "        href = card.find_element_by_tag_name('a').get_attribute('href') # get href through anchor tag\n",
    "        products.append({'product': title, 'description': description, 'tag': [], 'vote': vote, 'url': None, 'href': href})\n",
    "    except:\n",
    "        print('error', i)"
   ]
  },
  {
   "cell_type": "code",
   "execution_count": null,
   "metadata": {
    "scrolled": true
   },
   "outputs": [],
   "source": [
    "print(len(products))\n",
    "# for i in products:\n",
    "#     print(i)"
   ]
  },
  {
   "cell_type": "markdown",
   "metadata": {},
   "source": [
    "# Step 6: Go to each website and get the URL and tags"
   ]
  },
  {
   "cell_type": "code",
   "execution_count": null,
   "metadata": {
    "scrolled": true
   },
   "outputs": [],
   "source": [
    "for product in products:\n",
    "    try:\n",
    "        driver.get(product['href'])\n",
    "        try:\n",
    "            driver.find_element_by_class_name('more_2e78b').click()\n",
    "        except:\n",
    "            print('No clickable tag')\n",
    "        for tag in driver.find_elements_by_class_name('button_53e93'):\n",
    "            product['tag'].append(tag.text.capitalize())\n",
    "        driver.get(driver.find_element_by_class_name('link_9bebc').get_attribute('href'))\n",
    "        product['url'] = driver.current_url\n",
    "    except:\n",
    "        product['url'] = driver.current_url\n",
    "    print(product)"
   ]
  },
  {
   "cell_type": "code",
   "execution_count": null,
   "metadata": {},
   "outputs": [],
   "source": [
    "for product in products:\n",
    "    if(product['url'] == None):\n",
    "        print(product)"
   ]
  },
  {
   "cell_type": "code",
   "execution_count": null,
   "metadata": {},
   "outputs": [],
   "source": [
    "print(len(products))"
   ]
  },
  {
   "cell_type": "code",
   "execution_count": null,
   "metadata": {},
   "outputs": [],
   "source": [
    "for product in products[:5]:\n",
    "    try:\n",
    "        driver.get(product['href'])\n",
    "        try:\n",
    "            driver.find_element_by_class_name('more_2e78b').click()\n",
    "        except:\n",
    "            print('No clickable tag')\n",
    "        tag = []\n",
    "        for tag in driver.find_elements_by_class_name('button_53e93'):\n",
    "            product['tag'].append(tag.text.capitalize())\n",
    "        driver.get(driver.find_element_by_class_name('link_9bebc').get_attribute('href'))\n",
    "    print(product)"
   ]
  },
  {
   "cell_type": "markdown",
   "metadata": {},
   "source": [
    "# Step 7: Put data into excel file"
   ]
  },
  {
   "cell_type": "code",
   "execution_count": null,
   "metadata": {},
   "outputs": [],
   "source": [
    "workbook = xlsxwriter.Workbook('product_hunt.xlsx')\n",
    "worksheet = workbook.add_worksheet()\n",
    "worksheet.set_column('A:E', 25)\n",
    "worksheet.write(0, 0, 'Product Name')\n",
    "worksheet.write(0, 1, 'Description')\n",
    "worksheet.write(0, 2, 'URL')\n",
    "worksheet.write(0, 3, 'ProductHunt URL')\n",
    "worksheet.write(0, 4, 'Tag')\n",
    "worksheet.write(0, 5, 'Votes')\n",
    "\n",
    "row = 1\n",
    "for product in products:\n",
    "    worksheet.write(row, 0, product['product'])\n",
    "    worksheet.write(row, 1, product['description'])\n",
    "    worksheet.write(row, 2, product['url'])\n",
    "    worksheet.write(row, 3, product['href'])\n",
    "    worksheet.write(row, 4, ','.join(product['tag']))\n",
    "    worksheet.write(row, 5, product['vote'])\n",
    "    row += 1\n",
    "    \n",
    "workbook.close()"
   ]
  },
  {
   "cell_type": "code",
   "execution_count": null,
   "metadata": {},
   "outputs": [],
   "source": []
  }
 ],
 "metadata": {
  "kernelspec": {
   "display_name": "Python 3",
   "language": "python",
   "name": "python3"
  },
  "language_info": {
   "codemirror_mode": {
    "name": "ipython",
    "version": 3
   },
   "file_extension": ".py",
   "mimetype": "text/x-python",
   "name": "python",
   "nbconvert_exporter": "python",
   "pygments_lexer": "ipython3",
   "version": "3.8.2"
  }
 },
 "nbformat": 4,
 "nbformat_minor": 4
}
